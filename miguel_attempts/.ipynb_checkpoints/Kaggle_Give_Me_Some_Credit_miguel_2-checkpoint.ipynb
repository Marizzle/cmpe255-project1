{
 "cells": [
  {
   "cell_type": "markdown",
   "metadata": {},
   "source": [
    "# Give Me Some Credit - Overview"
   ]
  },
  {
   "cell_type": "markdown",
   "metadata": {},
   "source": [
    "## Problem Statement"
   ]
  },
  {
   "cell_type": "markdown",
   "metadata": {},
   "source": [
    "From the Competition:\n",
    "    \n",
    "```\n",
    "This competition requires participants to improve on the state of the art in credit scoring, by predicting the probability that somebody will experience financial distress in the next two years.\n",
    "```\n"
   ]
  },
  {
   "cell_type": "markdown",
   "metadata": {},
   "source": [
    "We're given a dataset that has already been split between a Training and Testing set. The dataset contains the following columns:\n",
    "\n",
    "```\n",
    "SeriousDlqin2yrs (our Target)\n",
    "\n",
    "RevolvingUtilizationOfUnsecuredLines\n",
    "age\n",
    "NumberOfTime30-59DaysPastDueNotWorse\n",
    "DebtRatio\n",
    "MonthlyIncome\n",
    "NumberOfOpenCreditLinesAndLoans\n",
    "NumberOfTimes90DaysLate\n",
    "NumberRealEstateLoansOrLines\n",
    "NumberOfTime60-89DaysPastDueNotWorse\n",
    "NumberOfDependents\n",
    "```"
   ]
  },
  {
   "cell_type": "markdown",
   "metadata": {},
   "source": [
    "// describe how the submission is supposed to look like and how it is evaluated"
   ]
  },
  {
   "cell_type": "markdown",
   "metadata": {},
   "source": [
    "# Give Me Some Credit - Model"
   ]
  },
  {
   "cell_type": "markdown",
   "metadata": {},
   "source": [
    "## Examining the Training Set\n"
   ]
  },
  {
   "cell_type": "code",
   "execution_count": 1,
   "metadata": {},
   "outputs": [],
   "source": [
    "import pandas as pd\n",
    "import numpy as np\n",
    "import matplotlib.pyplot as plt"
   ]
  },
  {
   "cell_type": "code",
   "execution_count": 2,
   "metadata": {},
   "outputs": [],
   "source": [
    "train = pd.read_csv('./data/cs-training.csv')"
   ]
  },
  {
   "cell_type": "code",
   "execution_count": 3,
   "metadata": {},
   "outputs": [
    {
     "data": {
      "text/plain": [
       "Unnamed: 0                              False\n",
       "SeriousDlqin2yrs                        False\n",
       "RevolvingUtilizationOfUnsecuredLines    False\n",
       "age                                     False\n",
       "NumberOfTime30-59DaysPastDueNotWorse    False\n",
       "DebtRatio                               False\n",
       "MonthlyIncome                            True\n",
       "NumberOfOpenCreditLinesAndLoans         False\n",
       "NumberOfTimes90DaysLate                 False\n",
       "NumberRealEstateLoansOrLines            False\n",
       "NumberOfTime60-89DaysPastDueNotWorse    False\n",
       "NumberOfDependents                       True\n",
       "dtype: bool"
      ]
     },
     "execution_count": 3,
     "metadata": {},
     "output_type": "execute_result"
    }
   ],
   "source": [
    "train.isnull().any()"
   ]
  },
  {
   "cell_type": "code",
   "execution_count": 4,
   "metadata": {},
   "outputs": [
    {
     "name": "stdout",
     "output_type": "stream",
     "text": [
      "0\n",
      "6670.221237392844\n",
      "0.7572222678605657\n"
     ]
    },
    {
     "data": {
      "text/plain": [
       "Unnamed: 0                              False\n",
       "SeriousDlqin2yrs                        False\n",
       "RevolvingUtilizationOfUnsecuredLines    False\n",
       "age                                     False\n",
       "NumberOfTime30-59DaysPastDueNotWorse    False\n",
       "DebtRatio                               False\n",
       "MonthlyIncome                           False\n",
       "NumberOfOpenCreditLinesAndLoans         False\n",
       "NumberOfTimes90DaysLate                 False\n",
       "NumberRealEstateLoansOrLines            False\n",
       "NumberOfTime60-89DaysPastDueNotWorse    False\n",
       "NumberOfDependents                      False\n",
       "dtype: bool"
      ]
     },
     "execution_count": 4,
     "metadata": {},
     "output_type": "execute_result"
    }
   ],
   "source": [
    "train_serious_dlq_in_2_yrs_average = 0 #train[\"SeriousDlqin2yrs\"].mean()\n",
    "train_monthly_income_average = train[\"MonthlyIncome\"].mean()\n",
    "train_number_of_dependents_average = train[\"NumberOfDependents\"].mean()\n",
    "\n",
    "print(train_serious_dlq_in_2_yrs_average) # must be int, not decimal\n",
    "print(train_monthly_income_average)\n",
    "print(train_number_of_dependents_average)  # must be int, not decimal\n",
    "\n",
    "## replace 'NA' values in train data with averges of the column\n",
    "train = train.replace({'SeriousDlqin2yrs': np.nan }, train_serious_dlq_in_2_yrs_average)\n",
    "train = train.replace({'MonthlyIncome': np.nan }, train_monthly_income_average)\n",
    "train = train.replace({'NumberOfDependents': np.nan }, train_number_of_dependents_average)\n",
    "\n",
    "train.isnull().any()\n"
   ]
  },
  {
   "cell_type": "markdown",
   "metadata": {},
   "source": [
    "There are two columns with missing data, 'MonthlyIncome' and 'NumberOfDependents'. We will omit these when training our predictor."
   ]
  },
  {
   "cell_type": "markdown",
   "metadata": {},
   "source": [
    "## Train Model Omitting The Two Features With Missing Data"
   ]
  },
  {
   "cell_type": "code",
   "execution_count": 5,
   "metadata": {},
   "outputs": [
    {
     "data": {
      "text/plain": [
       "['RevolvingUtilizationOfUnsecuredLines',\n",
       " 'age',\n",
       " 'NumberOfTime30-59DaysPastDueNotWorse',\n",
       " 'DebtRatio',\n",
       " 'MonthlyIncome',\n",
       " 'NumberOfOpenCreditLinesAndLoans',\n",
       " 'NumberOfTimes90DaysLate',\n",
       " 'NumberRealEstateLoansOrLines',\n",
       " 'NumberOfTime60-89DaysPastDueNotWorse',\n",
       " 'NumberOfDependents']"
      ]
     },
     "execution_count": 5,
     "metadata": {},
     "output_type": "execute_result"
    }
   ],
   "source": [
    "X_train = train.drop(['Unnamed: 0', \"SeriousDlqin2yrs\"],axis=1)\n",
    "\n",
    "y_train = train['SeriousDlqin2yrs'].values\n",
    "\n",
    "list(X_train.columns.values)"
   ]
  },
  {
   "cell_type": "markdown",
   "metadata": {},
   "source": [
    "## Running On Testing Set and Saving Probabilities to CSV\n"
   ]
  },
  {
   "cell_type": "code",
   "execution_count": 6,
   "metadata": {},
   "outputs": [
    {
     "name": "stdout",
     "output_type": "stream",
     "text": [
      "0\n",
      "6670.221237392847\n",
      "0.7572222678605657\n"
     ]
    },
    {
     "data": {
      "text/plain": [
       "RevolvingUtilizationOfUnsecuredLines    False\n",
       "age                                     False\n",
       "NumberOfTime30-59DaysPastDueNotWorse    False\n",
       "DebtRatio                               False\n",
       "MonthlyIncome                           False\n",
       "NumberOfOpenCreditLinesAndLoans         False\n",
       "NumberOfTimes90DaysLate                 False\n",
       "NumberRealEstateLoansOrLines            False\n",
       "NumberOfTime60-89DaysPastDueNotWorse    False\n",
       "NumberOfDependents                      False\n",
       "dtype: bool"
      ]
     },
     "execution_count": 6,
     "metadata": {},
     "output_type": "execute_result"
    }
   ],
   "source": [
    "test = pd.read_csv('./data/cs-test.csv')\n",
    "\n",
    "test_serious_dlq_in_2_yrs_average = 0 #train[\"SeriousDlqin2yrs\"].mean()\n",
    "test_monthly_income_average = train[\"MonthlyIncome\"].mean()\n",
    "test_number_of_dependents_average = train[\"NumberOfDependents\"].mean()\n",
    "\n",
    "print(test_serious_dlq_in_2_yrs_average) # must be int, not decimal\n",
    "print(test_monthly_income_average)\n",
    "print(test_number_of_dependents_average)  # must be int, not decimal\n",
    "\n",
    "## replace 'NA' values in train data with averges of the column\n",
    "test = test.replace({'SeriousDlqin2yrs': np.nan }, test_serious_dlq_in_2_yrs_average)\n",
    "test = test.replace({'MonthlyIncome': np.nan }, test_monthly_income_average)\n",
    "test = test.replace({'NumberOfDependents': np.nan }, test_number_of_dependents_average)\n",
    "\n",
    "\n",
    "test = test.drop(['Unnamed: 0', \"SeriousDlqin2yrs\"],axis=1)\n",
    "\n",
    "test.isnull().any()"
   ]
  },
  {
   "cell_type": "code",
   "execution_count": 7,
   "metadata": {},
   "outputs": [],
   "source": [
    "def saveEntryFile(y__test, file_name): \n",
    "    import csv\n",
    "\n",
    "    with open(file_name, mode='w') as entry_file:\n",
    "        entry_writer = csv.writer(entry_file, delimiter=',', quotechar='\"', quoting=csv.QUOTE_MINIMAL)\n",
    "    \n",
    "        entry_writer.writerow(['Id', 'Probability'])\n",
    "        for i in range(0, len(y_test)):\n",
    "            entry_writer.writerow([str(i+1), y__test[i][1]])"
   ]
  },
  {
   "cell_type": "markdown",
   "metadata": {},
   "source": [
    "### Logistic Regression"
   ]
  },
  {
   "cell_type": "code",
   "execution_count": 8,
   "metadata": {},
   "outputs": [],
   "source": [
    "from sklearn.ensemble import RandomForestClassifier\n",
    "from sklearn.linear_model import LogisticRegression\n",
    "\n",
    "\n",
    "regressor = LogisticRegression(solver='newton-cg')\n",
    "regressor.fit(X_train, y_train)  \n",
    "\n",
    "y_test = regressor.predict_proba(test)\n",
    "\n",
    "saveEntryFile(y_test, \"logistic_reg.csv\")"
   ]
  },
  {
   "cell_type": "markdown",
   "metadata": {},
   "source": [
    "### Using GaussianNB"
   ]
  },
  {
   "cell_type": "code",
   "execution_count": 9,
   "metadata": {},
   "outputs": [],
   "source": [
    "import numpy as np\n",
    "from sklearn.naive_bayes import GaussianNB\n",
    "\n",
    "clf = GaussianNB()\n",
    "clf.fit(X_train, y_train)\n",
    "y_test = clf.predict_proba(test)\n",
    "\n",
    "saveEntryFile(y_test, \"gaussian_nb.csv\")"
   ]
  },
  {
   "cell_type": "markdown",
   "metadata": {},
   "source": [
    "### Using RandomForest Classifier"
   ]
  },
  {
   "cell_type": "code",
   "execution_count": 10,
   "metadata": {},
   "outputs": [
    {
     "name": "stdout",
     "output_type": "stream",
     "text": [
      "[1.76715264e-01 1.67374801e-02 1.45588644e-01 1.70698579e-03\n",
      " 2.38840646e-03 1.31469790e-02 4.06896845e-01 7.90466279e-04\n",
      " 2.35859212e-01 1.69717184e-04]\n"
     ]
    }
   ],
   "source": [
    "from sklearn.ensemble import RandomForestClassifier\n",
    "from sklearn.datasets import make_classification\n",
    "\n",
    "clf = RandomForestClassifier(n_estimators=100, max_depth=2, random_state=0)\n",
    "clf.fit(X_train, y_train)\n",
    "\n",
    "# RandomForestClassifier(bootstrap=True, class_weight=None, criterion='gini',\n",
    "#             max_depth=2, max_features='auto', max_leaf_nodes=None,\n",
    "#             min_impurity_decrease=0.0, min_impurity_split=None,\n",
    "#             min_samples_leaf=1, min_samples_split=2,\n",
    "#             min_weight_fraction_leaf=0.0, n_estimators=100, n_jobs=None,\n",
    "#             oob_score=False, random_state=0, verbose=0, warm_start=False)\n",
    "\n",
    "print(clf.feature_importances_)\n",
    "y_test = clf.predict_proba(test)\n",
    "\n",
    "\n",
    "saveEntryFile(y_test, \"randomForest.csv\")\n"
   ]
  },
  {
   "cell_type": "markdown",
   "metadata": {},
   "source": [
    "## Evaluating on Kaggle"
   ]
  },
  {
   "cell_type": "markdown",
   "metadata": {},
   "source": [
    "The exported CSV with the probabilities was then submitted to the Kaggle Competition by using the Kaggle CLI\n",
    "\n",
    "```\n",
    "kaggle competitions submit -c GiveMeSomeCredit -f entry.csv -m \"Logistic Regression: Newtons\"\n",
    "```"
   ]
  },
  {
   "cell_type": "code",
   "execution_count": 11,
   "metadata": {},
   "outputs": [],
   "source": [
    "from IPython.display import Image\n",
    "Image(filename='./images/KaggleSubmission_LogisticRegression.png') \n"
   ]
  }
 ],
 "metadata": {
  "kernelspec": {
   "display_name": "Python 3",
   "language": "python",
   "name": "python3"
  },
  "language_info": {
   "codemirror_mode": {
    "name": "ipython",
    "version": 3
   },
   "file_extension": ".py",
   "mimetype": "text/x-python",
   "name": "python",
   "nbconvert_exporter": "python",
   "pygments_lexer": "ipython3",
   "version": "3.7.0"
  }
 },
 "nbformat": 4,
 "nbformat_minor": 2
}
