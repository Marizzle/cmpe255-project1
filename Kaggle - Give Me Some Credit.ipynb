{
 "cells": [
  {
   "cell_type": "markdown",
   "metadata": {},
   "source": [
    "# Give Me Some Credit - Overview"
   ]
  },
  {
   "cell_type": "markdown",
   "metadata": {},
   "source": [
    "## Problem Statement"
   ]
  },
  {
   "cell_type": "markdown",
   "metadata": {},
   "source": [
    "From the Competition:\n",
    "    \n",
    "```\n",
    "This competition requires participants to improve on the state of the art in credit scoring, by predicting the probability that somebody will experience financial distress in the next two years.\n",
    "```\n"
   ]
  },
  {
   "cell_type": "markdown",
   "metadata": {},
   "source": [
    "We're given a dataset that has already been split between a Training and Testing set. The dataset contains the following columns:"
   ]
  },
  {
   "cell_type": "markdown",
   "metadata": {},
   "source": [
    "**SeriousDlqin2yrs** Person experienced 90 days past due delinquency or worse\n",
    "\n",
    "**RevolvingUtilizationOfUnsecuredLines**: Total balance on credit cards and personal lines of credit except real estate and no installment debt like car loans divided by the sum of credit limits\n",
    "\n",
    "**age**\tAge of borrower in years\n",
    "\n",
    "**NumberOfTime30-59DaysPastDueNotWorse**: Number of times borrower has been 30-59 days past due but no worse in the last 2 years.\n",
    "\n",
    "**DebtRatio**: Monthly debt payments, alimony,living costs divided by monthy gross income\n",
    "\n",
    "**MonthlyIncome**: Monthly income\n",
    "\n",
    "**NumberOfOpenCreditLinesAndLoans**: Number of Open loans (installment like car loan or mortgage) and Lines of credit (e.g. credit cards)\n",
    "\n",
    "**NumberOfTimes90DaysLate**: Number of times borrower has been 90 days or more past due.\n",
    "\n",
    "**NumberRealEstateLoansOrLines**: Number of mortgage and real estate loans including home equity lines of credit\n",
    "\n",
    "**NumberOfTime60-89DaysPastDueNotWorse**: Number of times borrower has been 60-89 days past due but no worse in the last 2 years.\n",
    "\n",
    "**NumberOfDependents**: Number of dependents in family excluding themselves (spouse, children etc.)"
   ]
  },
  {
   "cell_type": "markdown",
   "metadata": {},
   "source": [
    "// describe how the submission is supposed to look like and how it is evaluated"
   ]
  },
  {
   "cell_type": "markdown",
   "metadata": {},
   "source": [
    "# Give Me Some Credit - Model"
   ]
  },
  {
   "cell_type": "markdown",
   "metadata": {},
   "source": [
    "## Examining the Training Set\n"
   ]
  },
  {
   "cell_type": "code",
   "execution_count": 247,
   "metadata": {
    "collapsed": true
   },
   "outputs": [],
   "source": [
    "import pandas as pd\n",
    "import numpy as np\n",
    "import matplotlib.pyplot as plt"
   ]
  },
  {
   "cell_type": "code",
   "execution_count": 248,
   "metadata": {
    "collapsed": true
   },
   "outputs": [],
   "source": [
    "train = pd.read_csv('./data/cs-training.csv')"
   ]
  },
  {
   "cell_type": "code",
   "execution_count": 249,
   "metadata": {},
   "outputs": [
    {
     "data": {
      "text/plain": [
       "Unnamed: 0                              False\n",
       "SeriousDlqin2yrs                        False\n",
       "RevolvingUtilizationOfUnsecuredLines    False\n",
       "age                                     False\n",
       "NumberOfTime30-59DaysPastDueNotWorse    False\n",
       "DebtRatio                               False\n",
       "MonthlyIncome                            True\n",
       "NumberOfOpenCreditLinesAndLoans         False\n",
       "NumberOfTimes90DaysLate                 False\n",
       "NumberRealEstateLoansOrLines            False\n",
       "NumberOfTime60-89DaysPastDueNotWorse    False\n",
       "NumberOfDependents                       True\n",
       "dtype: bool"
      ]
     },
     "execution_count": 249,
     "metadata": {},
     "output_type": "execute_result"
    }
   ],
   "source": [
    "train.isnull().any()"
   ]
  },
  {
   "cell_type": "markdown",
   "metadata": {},
   "source": [
    "There are two columns with missing data, 'MonthlyIncome' and 'NumberOfDependents'. We will omit these when training our predictor."
   ]
  },
  {
   "cell_type": "markdown",
   "metadata": {},
   "source": [
    "## Train Model Omitting The Two Features With Missing Data"
   ]
  },
  {
   "cell_type": "code",
   "execution_count": 250,
   "metadata": {
    "collapsed": true
   },
   "outputs": [],
   "source": [
    "X_train = train.drop(['Unnamed: 0','SeriousDlqin2yrs', 'MonthlyIncome', 'NumberOfDependents'],axis=1)\n",
    "y_train = train['SeriousDlqin2yrs'].values"
   ]
  },
  {
   "cell_type": "code",
   "execution_count": 251,
   "metadata": {},
   "outputs": [
    {
     "data": {
      "text/plain": [
       "LogisticRegression(C=1.0, class_weight=None, dual=False, fit_intercept=True,\n",
       "          intercept_scaling=1, max_iter=100, multi_class='warn',\n",
       "          n_jobs=None, penalty='l2', random_state=None, solver='newton-cg',\n",
       "          tol=0.0001, verbose=0, warm_start=False)"
      ]
     },
     "execution_count": 251,
     "metadata": {},
     "output_type": "execute_result"
    }
   ],
   "source": [
    "from sklearn.ensemble import RandomForestClassifier\n",
    "from sklearn.linear_model import LogisticRegression\n",
    "\n",
    "\n",
    "regressor = LogisticRegression(solver='newton-cg')\n",
    "regressor.fit(X_train, y_train)  "
   ]
  },
  {
   "cell_type": "markdown",
   "metadata": {},
   "source": [
    "## Running On Testing Set and Saving Probabilities to CSV\n"
   ]
  },
  {
   "cell_type": "code",
   "execution_count": 252,
   "metadata": {
    "collapsed": true
   },
   "outputs": [],
   "source": [
    "test = pd.read_csv('./data/cs-test.csv')\n",
    "test = test.drop(['Unnamed: 0','SeriousDlqin2yrs', 'MonthlyIncome', 'NumberOfDependents'],axis=1)"
   ]
  },
  {
   "cell_type": "code",
   "execution_count": 253,
   "metadata": {
    "collapsed": true
   },
   "outputs": [],
   "source": [
    "y_test = regressor.predict_proba(test)"
   ]
  },
  {
   "cell_type": "code",
   "execution_count": 254,
   "metadata": {
    "collapsed": true
   },
   "outputs": [],
   "source": [
    "import csv\n",
    "\n",
    "with open('entry.csv', mode='w') as entry_file:\n",
    "    entry_writer = csv.writer(entry_file, delimiter=',', quotechar='\"', quoting=csv.QUOTE_MINIMAL)\n",
    "    \n",
    "    entry_writer.writerow(['Id', 'Probability'])\n",
    "    for i in range(0, len(y_test)):\n",
    "        entry_writer.writerow([str(i+1), y_test[i][1]])"
   ]
  },
  {
   "cell_type": "markdown",
   "metadata": {},
   "source": [
    "## Evaluating on Kaggle"
   ]
  },
  {
   "cell_type": "markdown",
   "metadata": {},
   "source": [
    "The exported CSV with the probabilities was then submitted to the Kaggle Competition by using the Kaggle CLI\n",
    "\n",
    "```\n",
    "kaggle competitions submit -c GiveMeSomeCredit -f entry.csv -m \"Logistic Regression: Newtons\"\n",
    "```"
   ]
  },
  {
   "cell_type": "code",
   "execution_count": 259,
   "metadata": {},
   "outputs": [
    {
     "data": {
      "image/png": "[encoded data removed]",
      "text/plain": [
       "<IPython.core.display.Image object>"
      ]
     },
     "execution_count": 259,
     "metadata": {},
     "output_type": "execute_result"
    }
   ],
   "source": [
    "from IPython.display import Image\n",
    "Image(filename='./images/KaggleSubmission_LogisticRegression.png') \n"
   ]
  },
  {
   "cell_type": "code",
   "execution_count": null,
   "metadata": {
    "collapsed": true
   },
   "outputs": [],
   "source": []
  }
 ],
 "metadata": {
  "kernelspec": {
   "display_name": "Python 3",
   "language": "python",
   "name": "python3"
  },
  "language_info": {
   "codemirror_mode": {
    "name": "ipython",
    "version": 3
   },
   "file_extension": ".py",
   "mimetype": "text/x-python",
   "name": "python",
   "nbconvert_exporter": "python",
   "pygments_lexer": "ipython3",
   "version": "3.7.3"
  }
 },
 "nbformat": 4,
 "nbformat_minor": 2
}
